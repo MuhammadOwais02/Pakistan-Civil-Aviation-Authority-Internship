{
 "cells": [
  {
   "cell_type": "code",
   "execution_count": 102,
   "metadata": {},
   "outputs": [],
   "source": [
    "import win32com.client\n",
    "import os\n",
    "import pandas as pd"
   ]
  },
  {
   "cell_type": "code",
   "execution_count": 103,
   "metadata": {},
   "outputs": [],
   "source": [
    "# Create a DataFrame to store the email log\n",
    "email_log = pd.DataFrame(columns=['Serial', 'Sender', 'Receiver', 'Time', 'Subject', 'FileType', 'Attachment'])"
   ]
  },
  {
   "attachments": {},
   "cell_type": "markdown",
   "metadata": {},
   "source": [
    "'win32com.client' module in Python allows you to programmatically control Microsoft Office applications."
   ]
  },
  {
   "attachments": {},
   "cell_type": "markdown",
   "metadata": {},
   "source": [
    "'Dispatch()', for creating an instance of an Office application."
   ]
  },
  {
   "cell_type": "code",
   "execution_count": 104,
   "metadata": {},
   "outputs": [],
   "source": [
    "# Access Outlook and retrieve the inbox folder\n",
    "outlook = win32com.client.Dispatch(\"Outlook.Application\")\n",
    "mapi = outlook.GetNamespace(\"MAPI\")\n",
    "inbox = mapi.GetDefaultFolder(6)  # Inbox folder\n",
    "messages = inbox.Items"
   ]
  },
  {
   "cell_type": "code",
   "execution_count": 105,
   "metadata": {},
   "outputs": [],
   "source": [
    "serial_counter = 1  # Counter for serial numbers"
   ]
  },
  {
   "attachments": {},
   "cell_type": "markdown",
   "metadata": {},
   "source": [
    "#### Creating/Accessing Folder for all attachments (path mentioned here)"
   ]
  },
  {
   "cell_type": "code",
   "execution_count": 106,
   "metadata": {},
   "outputs": [],
   "source": [
    "# Create a folder to save the attachments\n",
    "attachments_folder = r\"D:\\GIKI\\CAA_intern\\attachments\"\n",
    "os.makedirs(attachments_folder, exist_ok=True)"
   ]
  },
  {
   "cell_type": "code",
   "execution_count": 107,
   "metadata": {},
   "outputs": [
    {
     "name": "stderr",
     "output_type": "stream",
     "text": [
      "C:\\Users\\Owaise\\AppData\\Local\\Temp\\ipykernel_15384\\3090050607.py:28: FutureWarning: The frame.append method is deprecated and will be removed from pandas in a future version. Use pandas.concat instead.\n",
      "  email_log = email_log.append({                   # Append method\n",
      "C:\\Users\\Owaise\\AppData\\Local\\Temp\\ipykernel_15384\\3090050607.py:28: FutureWarning: The frame.append method is deprecated and will be removed from pandas in a future version. Use pandas.concat instead.\n",
      "  email_log = email_log.append({                   # Append method\n",
      "C:\\Users\\Owaise\\AppData\\Local\\Temp\\ipykernel_15384\\3090050607.py:28: FutureWarning: The frame.append method is deprecated and will be removed from pandas in a future version. Use pandas.concat instead.\n",
      "  email_log = email_log.append({                   # Append method\n",
      "C:\\Users\\Owaise\\AppData\\Local\\Temp\\ipykernel_15384\\3090050607.py:28: FutureWarning: The frame.append method is deprecated and will be removed from pandas in a future version. Use pandas.concat instead.\n",
      "  email_log = email_log.append({                   # Append method\n",
      "C:\\Users\\Owaise\\AppData\\Local\\Temp\\ipykernel_15384\\3090050607.py:28: FutureWarning: The frame.append method is deprecated and will be removed from pandas in a future version. Use pandas.concat instead.\n",
      "  email_log = email_log.append({                   # Append method\n"
     ]
    }
   ],
   "source": [
    "# Iterate over unread emails, download attachments, mark as read, and update the log\n",
    "for message in messages:\n",
    "    if message.Unread:\n",
    "        sender = message.SenderEmailAddress\n",
    "        receiver = message.ReceivedByName\n",
    "        time = message.ReceivedTime\n",
    "        subject = message.Subject\n",
    "\n",
    "        attachments_info = []  # List to store attachment information\n",
    "        \n",
    "        for attachment in message.Attachments:\n",
    "            filename = attachment.FileName\n",
    "            file_extension = os.path.splitext(filename)[1]\n",
    "            new_filename = f\"{serial_counter}_{filename}\"\n",
    "            filepath = os.path.abspath(os.path.join(attachments_folder, new_filename))\n",
    "            attachment.SaveAsFile(filepath)\n",
    "            \n",
    "            attachments_info.append({\n",
    "                'FileName': new_filename,\n",
    "                'FileType': file_extension\n",
    "            })\n",
    "\n",
    "        # Mark the email as read\n",
    "        message.UnRead = False\n",
    "        \n",
    "        # Add email and attachment information to the log\n",
    "        for attachment_info in attachments_info:\n",
    "            email_log = email_log.append({                   # Append method \n",
    "                'Serial': serial_counter,\n",
    "                'Sender': sender,\n",
    "                'Receiver': receiver,\n",
    "                'Time': str(time),\n",
    "                'Subject': subject,\n",
    "                'FileType': attachment_info['FileType'],\n",
    "                'Attachment': attachment_info['FileName']\n",
    "            }, ignore_index=True)                           \n",
    "            \n",
    "            serial_counter += 1"
   ]
  },
  {
   "attachments": {},
   "cell_type": "markdown",
   "metadata": {},
   "source": [
    "FutureWarning: The frame.append method is deprecated and will be removed from pandas in a future version. Use pandas.concat instead.\n",
    "  email_log = email_log.append({\n",
    "\n",
    "Therefore this is the alternative in case that ever happens.. But I find the above append method more easy.."
   ]
  },
  {
   "cell_type": "code",
   "execution_count": 108,
   "metadata": {},
   "outputs": [
    {
     "data": {
      "text/plain": [
       "\"\\n# Add email and attachment information to the log\\nfor attachment_info in attachments_info:\\n    email_entry = {\\n        'Serial': serial_counter,\\n        'Sender': sender,\\n        'Receiver': receiver,\\n        'Time': str(time),\\n        'Subject': subject,\\n        'FileType': attachment_info['FileType'],\\n        'Attachment': attachment_info['FileName']\\n    }\\n    email_log = pd.concat([email_log, pd.DataFrame([email_entry])], ignore_index=True)\\n    serial_counter += 1\\n\\n\""
      ]
     },
     "execution_count": 108,
     "metadata": {},
     "output_type": "execute_result"
    }
   ],
   "source": [
    "\"\"\"\n",
    "# Add email and attachment information to the log\n",
    "for attachment_info in attachments_info:\n",
    "    email_entry = {\n",
    "        'Serial': serial_counter,\n",
    "        'Sender': sender,\n",
    "        'Receiver': receiver,\n",
    "        'Time': str(time),\n",
    "        'Subject': subject,\n",
    "        'FileType': attachment_info['FileType'],\n",
    "        'Attachment': attachment_info['FileName']\n",
    "    }\n",
    "    email_log = pd.concat([email_log, pd.DataFrame([email_entry])], ignore_index=True)\n",
    "    serial_counter += 1\n",
    "\n",
    "\"\"\""
   ]
  },
  {
   "cell_type": "code",
   "execution_count": 109,
   "metadata": {},
   "outputs": [
    {
     "data": {
      "text/html": [
       "<div>\n",
       "<style scoped>\n",
       "    .dataframe tbody tr th:only-of-type {\n",
       "        vertical-align: middle;\n",
       "    }\n",
       "\n",
       "    .dataframe tbody tr th {\n",
       "        vertical-align: top;\n",
       "    }\n",
       "\n",
       "    .dataframe thead th {\n",
       "        text-align: right;\n",
       "    }\n",
       "</style>\n",
       "<table border=\"1\" class=\"dataframe\">\n",
       "  <thead>\n",
       "    <tr style=\"text-align: right;\">\n",
       "      <th></th>\n",
       "      <th>Serial</th>\n",
       "      <th>Sender</th>\n",
       "      <th>Receiver</th>\n",
       "      <th>Time</th>\n",
       "      <th>Subject</th>\n",
       "      <th>FileType</th>\n",
       "      <th>Attachment</th>\n",
       "    </tr>\n",
       "  </thead>\n",
       "  <tbody>\n",
       "    <tr>\n",
       "      <th>0</th>\n",
       "      <td>1</td>\n",
       "      <td>/O=EXCHANGELABS/OU=EXCHANGE ADMINISTRATIVE GRO...</td>\n",
       "      <td>u2020337</td>\n",
       "      <td>2023-06-21 01:19:46.173000+00:00</td>\n",
       "      <td>BOP Summer Internship Program 2023</td>\n",
       "      <td>.pdf</td>\n",
       "      <td>1_INTERN Ad14553.pdf</td>\n",
       "    </tr>\n",
       "    <tr>\n",
       "      <th>1</th>\n",
       "      <td>2</td>\n",
       "      <td>owais.sajid002@gmail.com</td>\n",
       "      <td>u2020337</td>\n",
       "      <td>2023-06-22 10:59:30.422000+00:00</td>\n",
       "      <td>attachment test 1</td>\n",
       "      <td>.pdf</td>\n",
       "      <td>2_2020337_intern_CV.pdf</td>\n",
       "    </tr>\n",
       "    <tr>\n",
       "      <th>2</th>\n",
       "      <td>3</td>\n",
       "      <td>owais.sajid002@gmail.com</td>\n",
       "      <td>u2020337</td>\n",
       "      <td>2023-06-22 11:00:33.318000+00:00</td>\n",
       "      <td>attachment test 2</td>\n",
       "      <td>.docx</td>\n",
       "      <td>3_CV_assignment3.docx</td>\n",
       "    </tr>\n",
       "    <tr>\n",
       "      <th>3</th>\n",
       "      <td>4</td>\n",
       "      <td>owais.sajid002@gmail.com</td>\n",
       "      <td>u2020337</td>\n",
       "      <td>2023-06-23 11:25:04.207000+00:00</td>\n",
       "      <td>Attachment test 3</td>\n",
       "      <td>.docx</td>\n",
       "      <td>4_CV_assignment3.docx</td>\n",
       "    </tr>\n",
       "    <tr>\n",
       "      <th>4</th>\n",
       "      <td>5</td>\n",
       "      <td>owais.sajid002@gmail.com</td>\n",
       "      <td>u2020337</td>\n",
       "      <td>2023-06-23 11:25:04.207000+00:00</td>\n",
       "      <td>Attachment test 3</td>\n",
       "      <td>.png</td>\n",
       "      <td>4_fiverr-logo.png</td>\n",
       "    </tr>\n",
       "  </tbody>\n",
       "</table>\n",
       "</div>"
      ],
      "text/plain": [
       "  Serial                                             Sender  Receiver  \\\n",
       "0      1  /O=EXCHANGELABS/OU=EXCHANGE ADMINISTRATIVE GRO...  u2020337   \n",
       "1      2                           owais.sajid002@gmail.com  u2020337   \n",
       "2      3                           owais.sajid002@gmail.com  u2020337   \n",
       "3      4                           owais.sajid002@gmail.com  u2020337   \n",
       "4      5                           owais.sajid002@gmail.com  u2020337   \n",
       "\n",
       "                               Time                             Subject  \\\n",
       "0  2023-06-21 01:19:46.173000+00:00  BOP Summer Internship Program 2023   \n",
       "1  2023-06-22 10:59:30.422000+00:00                   attachment test 1   \n",
       "2  2023-06-22 11:00:33.318000+00:00                   attachment test 2   \n",
       "3  2023-06-23 11:25:04.207000+00:00                   Attachment test 3   \n",
       "4  2023-06-23 11:25:04.207000+00:00                   Attachment test 3   \n",
       "\n",
       "  FileType               Attachment  \n",
       "0     .pdf     1_INTERN Ad14553.pdf  \n",
       "1     .pdf  2_2020337_intern_CV.pdf  \n",
       "2    .docx    3_CV_assignment3.docx  \n",
       "3    .docx    4_CV_assignment3.docx  \n",
       "4     .png        4_fiverr-logo.png  "
      ]
     },
     "execution_count": 109,
     "metadata": {},
     "output_type": "execute_result"
    }
   ],
   "source": [
    "email_log"
   ]
  },
  {
   "attachments": {},
   "cell_type": "markdown",
   "metadata": {},
   "source": [
    "#### Saving Log File (path mentioned here)"
   ]
  },
  {
   "cell_type": "code",
   "execution_count": 110,
   "metadata": {},
   "outputs": [],
   "source": [
    "log_filepath = os.path.abspath(r\"D:\\GIKI\\CAA_intern\\email_log.xlsx\")\n",
    "email_log.to_excel(log_filepath, index=False)"
   ]
  },
  {
   "attachments": {},
   "cell_type": "markdown",
   "metadata": {},
   "source": [
    "### Sorting into seperate folders.."
   ]
  },
  {
   "cell_type": "code",
   "execution_count": 113,
   "metadata": {},
   "outputs": [],
   "source": [
    "import os\n",
    "import shutil"
   ]
  },
  {
   "attachments": {},
   "cell_type": "markdown",
   "metadata": {},
   "source": [
    "The separate folders for each extension will be created within the attachments_folder itself. \n",
    "\n",
    "The function will create a folder for each unique extension encountered and move the files with that extension into their respective folders within the attachments_folder."
   ]
  },
  {
   "cell_type": "code",
   "execution_count": 114,
   "metadata": {},
   "outputs": [],
   "source": [
    "def sort_attachments_by_extension(attachments_folder):\n",
    "    # Get all files in the attachments folder\n",
    "    files = os.listdir(attachments_folder)\n",
    "\n",
    "    # Create a dictionary to store folders for each extension\n",
    "    extension_folders = {}\n",
    "\n",
    "    # Iterate over the files and identify their extensions\n",
    "    for file in files:\n",
    "        file_path = os.path.join(attachments_folder, file)\n",
    "        \n",
    "        # Exclude folders and files within extension folders from sorting \n",
    "        # ' .isfile() ' functions checks to make sure that it is a file ! \n",
    "        if not os.path.isfile(file_path) or os.path.dirname(file_path) != attachments_folder:  \n",
    "            continue # Sorting restricted to main \"attachments_folder\" only.\n",
    "\n",
    "        file_extension = os.path.splitext(file)[1]\n",
    "\n",
    "        # Create a folder for the extension if it doesn't exist\n",
    "        if file_extension not in extension_folders:\n",
    "            extension_folder = os.path.join(attachments_folder, f\"{file_extension}_folder\")\n",
    "            os.makedirs(extension_folder, exist_ok=True)\n",
    "            extension_folders[file_extension] = extension_folder\n",
    "\n",
    "        # Move the file to the respective extension folder\n",
    "        destination_folder = extension_folders[file_extension]\n",
    "        destination_path = os.path.join(destination_folder, file)\n",
    "        shutil.move(file_path, destination_path)"
   ]
  },
  {
   "cell_type": "code",
   "execution_count": 116,
   "metadata": {},
   "outputs": [],
   "source": [
    "sort_attachments_by_extension(attachments_folder)"
   ]
  },
  {
   "attachments": {},
   "cell_type": "markdown",
   "metadata": {},
   "source": [
    "______________________________________"
   ]
  },
  {
   "attachments": {},
   "cell_type": "markdown",
   "metadata": {},
   "source": [
    "creating sub-logs for each file extension folder that keeps the orignal appointed serial number."
   ]
  },
  {
   "cell_type": "code",
   "execution_count": 118,
   "metadata": {},
   "outputs": [],
   "source": [
    "# Create a list of unique file extensions from the main log data frame\n",
    "unique_extensions = email_log['FileType'].unique()\n",
    "\n",
    "# Create a sub-log for each file extension and store them as Excel files in respective folders\n",
    "for extension in unique_extensions:\n",
    "    # Filter the main log data frame based on the file extension\n",
    "    sub_log = email_log[email_log['FileType'] == extension]\n",
    "    \n",
    "    # Create a folder for the extension if it doesn't exist\n",
    "    folder_name = f\"{extension}_folder\"\n",
    "    folder_path = os.path.join(attachments_folder, folder_name)\n",
    "    os.makedirs(folder_path, exist_ok=True)\n",
    "    \n",
    "    # Set the file path for the sub-log Excel file\n",
    "    file_name = f\"sub_log_{extension}.xlsx\"\n",
    "    file_path = os.path.join(folder_path, file_name)\n",
    "    \n",
    "    # Save the sub-log as an Excel file\n",
    "    sub_log.to_excel(file_path, index=False)\n"
   ]
  },
  {
   "attachments": {},
   "cell_type": "markdown",
   "metadata": {},
   "source": [
    "Notes:"
   ]
  },
  {
   "attachments": {},
   "cell_type": "markdown",
   "metadata": {},
   "source": [
    "- get file sorting working ---- Done\n",
    "- will have to access the webpage programmatically"
   ]
  }
 ],
 "metadata": {
  "kernelspec": {
   "display_name": "base",
   "language": "python",
   "name": "python3"
  },
  "language_info": {
   "codemirror_mode": {
    "name": "ipython",
    "version": 3
   },
   "file_extension": ".py",
   "mimetype": "text/x-python",
   "name": "python",
   "nbconvert_exporter": "python",
   "pygments_lexer": "ipython3",
   "version": "3.9.13"
  },
  "orig_nbformat": 4
 },
 "nbformat": 4,
 "nbformat_minor": 2
}
