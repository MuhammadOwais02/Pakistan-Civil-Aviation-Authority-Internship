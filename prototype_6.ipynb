{
 "cells": [
  {
   "cell_type": "code",
   "execution_count": 11,
   "metadata": {},
   "outputs": [],
   "source": [
    "import win32com.client\n",
    "import os\n",
    "import pandas as pd"
   ]
  },
  {
   "cell_type": "code",
   "execution_count": 12,
   "metadata": {},
   "outputs": [],
   "source": [
    "# Create a DataFrame to store the email log\n",
    "email_log_filepath = os.path.abspath(r\"D:\\GIKI\\CAA_intern\\email_log_with_attachments.xlsx\")"
   ]
  },
  {
   "attachments": {},
   "cell_type": "markdown",
   "metadata": {},
   "source": [
    " Here, the email log and attachments log are loaded from the existing Excel file if it exists. If the file doesn't exist, new empty logs are created. The last serial numbers from the existing logs are used to increment the serial counters for new entries."
   ]
  },
  {
   "cell_type": "code",
   "execution_count": 13,
   "metadata": {},
   "outputs": [],
   "source": [
    "# Check if the email log file already exists\n",
    "if os.path.exists(email_log_filepath):\n",
    "    # Load the existing email log from the file\n",
    "    email_log = pd.read_excel(email_log_filepath, sheet_name='EmailLog')\n",
    "    attachments_log = pd.read_excel(email_log_filepath, sheet_name='AttachmentsLog')\n",
    "    \n",
    "    # Get the last serial number from the existing logs\n",
    "    last_email_serial = email_log['EmailSerial'].max()\n",
    "    last_attachment_serial = attachments_log['AttachmentSerial'].max()\n",
    "    \n",
    "    # Increment the serial counters for new entries\n",
    "    email_serial_counter = last_email_serial + 1\n",
    "    attachment_serial_counter = last_attachment_serial + 1\n",
    "else:\n",
    "    # Create new email log and attachments log if the file doesn't exist\n",
    "    email_log = pd.DataFrame(columns=['EmailSerial', 'Sender', 'Receiver', 'Time', 'Subject'])\n",
    "    attachments_log = pd.DataFrame(columns=['EmailSerial', 'AttachmentSerial', 'FileType', 'RenamedAttachment'])\n",
    "    \n",
    "    # Initialize the serial counters\n",
    "    email_serial_counter = 1\n",
    "    attachment_serial_counter = 1\n"
   ]
  },
  {
   "cell_type": "code",
   "execution_count": 14,
   "metadata": {},
   "outputs": [],
   "source": [
    "# Access Outlook and retrieve the inbox folder\n",
    "outlook = win32com.client.Dispatch(\"Outlook.Application\")\n",
    "mapi = outlook.GetNamespace(\"MAPI\")\n",
    "inbox = mapi.GetDefaultFolder(6)  # Inbox folder\n",
    "messages = inbox.Items"
   ]
  },
  {
   "cell_type": "code",
   "execution_count": 15,
   "metadata": {},
   "outputs": [],
   "source": [
    "# Create a folder to save the attachments\n",
    "attachments_folder = r\"D:\\GIKI\\CAA_intern\\attachments\"\n",
    "os.makedirs(attachments_folder, exist_ok=True)"
   ]
  },
  {
   "cell_type": "code",
   "execution_count": 16,
   "metadata": {},
   "outputs": [
    {
     "name": "stderr",
     "output_type": "stream",
     "text": [
      "C:\\Users\\Owaise\\AppData\\Local\\Temp\\ipykernel_5888\\3737421670.py:10: FutureWarning: The frame.append method is deprecated and will be removed from pandas in a future version. Use pandas.concat instead.\n",
      "  email_log = email_log.append({\n",
      "C:\\Users\\Owaise\\AppData\\Local\\Temp\\ipykernel_5888\\3737421670.py:41: FutureWarning: The frame.append method is deprecated and will be removed from pandas in a future version. Use pandas.concat instead.\n",
      "  attachments_log = attachments_log.append(attachment_info, ignore_index=True)\n",
      "C:\\Users\\Owaise\\AppData\\Local\\Temp\\ipykernel_5888\\3737421670.py:41: FutureWarning: The frame.append method is deprecated and will be removed from pandas in a future version. Use pandas.concat instead.\n",
      "  attachments_log = attachments_log.append(attachment_info, ignore_index=True)\n"
     ]
    }
   ],
   "source": [
    "# Iterate over unread emails, download attachments, mark as read, and update the log\n",
    "for message in messages:\n",
    "    if message.Unread:\n",
    "        sender = message.SenderEmailAddress\n",
    "        receiver = message.ReceivedByName\n",
    "        time = message.ReceivedTime\n",
    "        subject = message.Subject\n",
    "        \n",
    "        # Add email information to the email log\n",
    "        email_log = email_log.append({\n",
    "            'EmailSerial': email_serial_counter,\n",
    "            'Sender': sender,\n",
    "            'Receiver': receiver,\n",
    "            'Time': str(time),\n",
    "            'Subject': subject\n",
    "        }, ignore_index=True)\n",
    "\n",
    "        attachments_info = []  # List to store attachment information\n",
    "\n",
    "        for attachment in message.Attachments:\n",
    "            filename = attachment.FileName\n",
    "            file_extension = os.path.splitext(filename)[1]\n",
    "            new_filename = f\"{email_serial_counter}_{attachment_serial_counter}_{filename}\"\n",
    "            filepath = os.path.abspath(os.path.join(attachments_folder, new_filename))\n",
    "            attachment.SaveAsFile(filepath)\n",
    "\n",
    "            attachments_info.append({\n",
    "                'EmailSerial': email_serial_counter,\n",
    "                'AttachmentSerial': attachment_serial_counter,\n",
    "                'FileType': file_extension,\n",
    "                'RenamedAttachment': new_filename\n",
    "            })\n",
    "\n",
    "            attachment_serial_counter += 1\n",
    "\n",
    "        # Mark the email as read\n",
    "        message.UnRead = False\n",
    "\n",
    "        # Add attachment information to the attachment log\n",
    "        for attachment_info in attachments_info:\n",
    "            attachments_log = attachments_log.append(attachment_info, ignore_index=True)\n",
    "\n",
    "        email_serial_counter += 1"
   ]
  },
  {
   "cell_type": "code",
   "execution_count": 25,
   "metadata": {},
   "outputs": [
    {
     "data": {
      "text/html": [
       "<div>\n",
       "<style scoped>\n",
       "    .dataframe tbody tr th:only-of-type {\n",
       "        vertical-align: middle;\n",
       "    }\n",
       "\n",
       "    .dataframe tbody tr th {\n",
       "        vertical-align: top;\n",
       "    }\n",
       "\n",
       "    .dataframe thead th {\n",
       "        text-align: right;\n",
       "    }\n",
       "</style>\n",
       "<table border=\"1\" class=\"dataframe\">\n",
       "  <thead>\n",
       "    <tr style=\"text-align: right;\">\n",
       "      <th></th>\n",
       "      <th>EmailSerial</th>\n",
       "      <th>Sender</th>\n",
       "      <th>Receiver</th>\n",
       "      <th>Time</th>\n",
       "      <th>Subject</th>\n",
       "    </tr>\n",
       "  </thead>\n",
       "  <tbody>\n",
       "    <tr>\n",
       "      <th>0</th>\n",
       "      <td>1</td>\n",
       "      <td>/O=EXCHANGELABS/OU=EXCHANGE ADMINISTRATIVE GRO...</td>\n",
       "      <td>u2020337</td>\n",
       "      <td>2023-06-27 13:31:57.139000+00:00</td>\n",
       "      <td>HEC - Coursera: Cohort I</td>\n",
       "    </tr>\n",
       "    <tr>\n",
       "      <th>1</th>\n",
       "      <td>2</td>\n",
       "      <td>owais.sajid002@gmail.com</td>\n",
       "      <td>u2020337</td>\n",
       "      <td>2023-06-23 11:25:04.207000+00:00</td>\n",
       "      <td>Attachment test 3</td>\n",
       "    </tr>\n",
       "  </tbody>\n",
       "</table>\n",
       "</div>"
      ],
      "text/plain": [
       "   EmailSerial                                             Sender  Receiver  \\\n",
       "0            1  /O=EXCHANGELABS/OU=EXCHANGE ADMINISTRATIVE GRO...  u2020337   \n",
       "1            2                           owais.sajid002@gmail.com  u2020337   \n",
       "\n",
       "                               Time                   Subject  \n",
       "0  2023-06-27 13:31:57.139000+00:00  HEC - Coursera: Cohort I  \n",
       "1  2023-06-23 11:25:04.207000+00:00         Attachment test 3  "
      ]
     },
     "execution_count": 25,
     "metadata": {},
     "output_type": "execute_result"
    }
   ],
   "source": [
    "email_log.head(10)"
   ]
  },
  {
   "cell_type": "code",
   "execution_count": 33,
   "metadata": {},
   "outputs": [
    {
     "data": {
      "text/plain": [
       "0    /O=EXCHANGELABS/OU=EXCHANGE ADMINISTRATIVE GRO...\n",
       "1                             owais.sajid002@gmail.com\n",
       "Name: Sender, dtype: object"
      ]
     },
     "execution_count": 33,
     "metadata": {},
     "output_type": "execute_result"
    }
   ],
   "source": [
    "email_log['Sender']"
   ]
  },
  {
   "cell_type": "code",
   "execution_count": 26,
   "metadata": {},
   "outputs": [
    {
     "data": {
      "text/html": [
       "<div>\n",
       "<style scoped>\n",
       "    .dataframe tbody tr th:only-of-type {\n",
       "        vertical-align: middle;\n",
       "    }\n",
       "\n",
       "    .dataframe tbody tr th {\n",
       "        vertical-align: top;\n",
       "    }\n",
       "\n",
       "    .dataframe thead th {\n",
       "        text-align: right;\n",
       "    }\n",
       "</style>\n",
       "<table border=\"1\" class=\"dataframe\">\n",
       "  <thead>\n",
       "    <tr style=\"text-align: right;\">\n",
       "      <th></th>\n",
       "      <th>EmailSerial</th>\n",
       "      <th>AttachmentSerial</th>\n",
       "      <th>FileType</th>\n",
       "      <th>RenamedAttachment</th>\n",
       "    </tr>\n",
       "  </thead>\n",
       "  <tbody>\n",
       "    <tr>\n",
       "      <th>0</th>\n",
       "      <td>1</td>\n",
       "      <td>1</td>\n",
       "      <td>.jpg</td>\n",
       "      <td>1_1_HEC-DLSE Cohort I.jpg</td>\n",
       "    </tr>\n",
       "    <tr>\n",
       "      <th>1</th>\n",
       "      <td>2</td>\n",
       "      <td>2</td>\n",
       "      <td>.docx</td>\n",
       "      <td>2_2_CV_assignment3.docx</td>\n",
       "    </tr>\n",
       "    <tr>\n",
       "      <th>2</th>\n",
       "      <td>2</td>\n",
       "      <td>3</td>\n",
       "      <td>.png</td>\n",
       "      <td>2_3_fiverr-logo.png</td>\n",
       "    </tr>\n",
       "  </tbody>\n",
       "</table>\n",
       "</div>"
      ],
      "text/plain": [
       "   EmailSerial  AttachmentSerial FileType          RenamedAttachment\n",
       "0            1                 1     .jpg  1_1_HEC-DLSE Cohort I.jpg\n",
       "1            2                 2    .docx    2_2_CV_assignment3.docx\n",
       "2            2                 3     .png        2_3_fiverr-logo.png"
      ]
     },
     "execution_count": 26,
     "metadata": {},
     "output_type": "execute_result"
    }
   ],
   "source": [
    "attachments_log.head(10)"
   ]
  },
  {
   "cell_type": "code",
   "execution_count": 17,
   "metadata": {},
   "outputs": [],
   "source": [
    "# Save the updated email log and attachments log to the same Excel file\n",
    "with pd.ExcelWriter(email_log_filepath) as writer:\n",
    "    email_log.to_excel(writer, sheet_name='EmailLog', index=False)\n",
    "    attachments_log.to_excel(writer, sheet_name='AttachmentsLog', index=False)"
   ]
  },
  {
   "attachments": {},
   "cell_type": "markdown",
   "metadata": {},
   "source": [
    "### Sorting into seperate folders.."
   ]
  },
  {
   "cell_type": "code",
   "execution_count": 18,
   "metadata": {},
   "outputs": [],
   "source": [
    "import os\n",
    "import shutil"
   ]
  },
  {
   "attachments": {},
   "cell_type": "markdown",
   "metadata": {},
   "source": [
    "The separate folders for each extension will be created within the attachments_folder itself. \n",
    "\n",
    "The function will create a folder for each unique extension encountered and move the files with that extension into their respective folders within the attachments_folder."
   ]
  },
  {
   "cell_type": "code",
   "execution_count": 19,
   "metadata": {},
   "outputs": [],
   "source": [
    "def sort_attachments_by_extension(attachments_folder):\n",
    "    # Get all files in the attachments folder\n",
    "    files = os.listdir(attachments_folder)\n",
    "\n",
    "    # Create a dictionary to store folders for each extension\n",
    "    extension_folders = {}\n",
    "\n",
    "    # Iterate over the files and identify their extensions\n",
    "    for file in files:\n",
    "        file_path = os.path.join(attachments_folder, file)\n",
    "        \n",
    "        # Exclude folders and files within extension folders from sorting \n",
    "        # ' .isfile() ' functions checks to make sure that it is a file ! \n",
    "        if not os.path.isfile(file_path) or os.path.dirname(file_path) != attachments_folder:  \n",
    "            continue # Sorting restricted to main \"attachments_folder\" only.\n",
    "\n",
    "        file_extension = os.path.splitext(file)[1]\n",
    "\n",
    "        # Create a folder for the extension if it doesn't exist\n",
    "        if file_extension not in extension_folders:\n",
    "            extension_folder = os.path.join(attachments_folder, f\"{file_extension}_folder\") # making of sub-folders\n",
    "            os.makedirs(extension_folder, exist_ok=True)\n",
    "            extension_folders[file_extension] = extension_folder\n",
    "\n",
    "        # Move the file to the respective extension folder\n",
    "        destination_folder = extension_folders[file_extension]\n",
    "        destination_path = os.path.join(destination_folder, file)\n",
    "        shutil.move(file_path, destination_path)"
   ]
  },
  {
   "cell_type": "code",
   "execution_count": 20,
   "metadata": {},
   "outputs": [],
   "source": [
    "sort_attachments_by_extension(attachments_folder)"
   ]
  },
  {
   "cell_type": "code",
   "execution_count": null,
   "metadata": {},
   "outputs": [],
   "source": []
  }
 ],
 "metadata": {
  "kernelspec": {
   "display_name": "base",
   "language": "python",
   "name": "python3"
  },
  "language_info": {
   "codemirror_mode": {
    "name": "ipython",
    "version": 3
   },
   "file_extension": ".py",
   "mimetype": "text/x-python",
   "name": "python",
   "nbconvert_exporter": "python",
   "pygments_lexer": "ipython3",
   "version": "3.9.13"
  },
  "orig_nbformat": 4
 },
 "nbformat": 4,
 "nbformat_minor": 2
}
