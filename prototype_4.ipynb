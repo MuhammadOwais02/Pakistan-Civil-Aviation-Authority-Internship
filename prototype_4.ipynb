{
 "cells": [
  {
   "cell_type": "code",
   "execution_count": 7,
   "metadata": {},
   "outputs": [
    {
     "name": "stdout",
     "output_type": "stream",
     "text": [
      "Collecting pytz==2020.1\n",
      "  Downloading pytz-2020.1-py2.py3-none-any.whl (510 kB)\n",
      "     ------------------------------------ 510.2/510.2 kB 172.1 kB/s eta 0:00:00\n",
      "Installing collected packages: pytz\n",
      "  Attempting uninstall: pytz\n",
      "    Found existing installation: pytz 2022.1\n",
      "    Uninstalling pytz-2022.1:\n",
      "      Successfully uninstalled pytz-2022.1\n",
      "Successfully installed pytz-2020.1\n"
     ]
    },
    {
     "name": "stderr",
     "output_type": "stream",
     "text": [
      "ERROR: pip's dependency resolver does not currently take into account all the packages that are installed. This behaviour is the source of the following dependency conflicts.\n",
      "conda-repo-cli 1.0.20 requires clyent==1.2.1, but you have clyent 1.2.2 which is incompatible.\n",
      "conda-repo-cli 1.0.20 requires nbformat==5.4.0, but you have nbformat 5.5.0 which is incompatible.\n"
     ]
    }
   ],
   "source": [
    "! pip install pytz==2020.1"
   ]
  },
  {
   "cell_type": "code",
   "execution_count": 6,
   "metadata": {},
   "outputs": [],
   "source": [
    "import win32com.client\n",
    "import os\n",
    "import pandas as pd\n",
    "import re\n",
    "import nltk"
   ]
  },
  {
   "cell_type": "code",
   "execution_count": 7,
   "metadata": {},
   "outputs": [],
   "source": [
    "# Create a DataFrame to store the email log\n",
    "email_log = pd.DataFrame(columns=['Serial', 'Sender', 'Receiver', 'Time', 'Subject', 'FileType', 'Attachment'])"
   ]
  },
  {
   "cell_type": "code",
   "execution_count": 8,
   "metadata": {},
   "outputs": [],
   "source": [
    "# Access Outlook and retrieve the inbox folder\n",
    "outlook = win32com.client.Dispatch(\"Outlook.Application\")\n",
    "mapi = outlook.GetNamespace(\"MAPI\")\n",
    "inbox = mapi.GetDefaultFolder(6)  # Inbox folder\n",
    "messages = inbox.Items"
   ]
  },
  {
   "cell_type": "code",
   "execution_count": null,
   "metadata": {},
   "outputs": [],
   "source": [
    "serial_counter = 1  # Counter for serial numbers"
   ]
  },
  {
   "cell_type": "code",
   "execution_count": 9,
   "metadata": {},
   "outputs": [
    {
     "name": "stderr",
     "output_type": "stream",
     "text": [
      "C:\\Users\\Owaise\\AppData\\Local\\Temp\\ipykernel_12652\\437056039.py:16: FutureWarning: The frame.append method is deprecated and will be removed from pandas in a future version. Use pandas.concat instead.\n",
      "  email_log = email_log.append({\n",
      "C:\\Users\\Owaise\\AppData\\Local\\Temp\\ipykernel_12652\\437056039.py:16: FutureWarning: The frame.append method is deprecated and will be removed from pandas in a future version. Use pandas.concat instead.\n",
      "  email_log = email_log.append({\n"
     ]
    }
   ],
   "source": [
    "# Iterate over unread emails, download attachments, mark as read, and update the log\n",
    "for message in messages:\n",
    "    if message.Unread:\n",
    "        sender = message.SenderEmailAddress\n",
    "        receiver = message.ReceivedByName\n",
    "        time = message.ReceivedTime\n",
    "        subject = message.Subject\n",
    "\n",
    "        attachments_info = []  # List to store attachment information\n",
    "        \n",
    "        for attachment in message.Attachments:\n",
    "            filename = attachment.FileName\n",
    "            file_extension = os.path.splitext(filename)[1]\n",
    "            new_filename = f\"{serial_counter}_{filename}\"\n",
    "            filepath = os.path.abspath(os.path.join(attachments_folder, new_filename))\n",
    "            attachment.SaveAsFile(filepath)\n",
    "            \n",
    "            attachments_info.append({\n",
    "                'FileName': new_filename,\n",
    "                'FileType': file_extension\n",
    "            })\n",
    "\n",
    "        # Mark the email as read\n",
    "        message.UnRead = False\n",
    "        \n",
    "        # Add email and attachment information to the log\n",
    "        for attachment_info in attachments_info:\n",
    "            email_log = email_log.append({                   # Append method \n",
    "                'Serial': serial_counter,\n",
    "                'Sender': sender,\n",
    "                'Receiver': receiver,\n",
    "                'Time': str(time),\n",
    "                'Subject': subject,\n",
    "                'FileType': attachment_info['FileType'],\n",
    "                'Attachment': attachment_info['FileName']\n",
    "            }, ignore_index=True)                           \n",
    "            \n",
    "            serial_counter += 1"
   ]
  },
  {
   "attachments": {},
   "cell_type": "markdown",
   "metadata": {},
   "source": [
    "# code--->"
   ]
  },
  {
   "cell_type": "code",
   "execution_count": null,
   "metadata": {},
   "outputs": [],
   "source": [
    "# Iterate over unread emails, download attachments, mark as read, and update the log\n",
    "for message in messages:\n",
    "    if message.Unread:\n",
    "\n",
    "        #sender = message.SenderEmailAddress\n",
    "        #sender = message.SenderEmailAddress.split(\"@\")[0]  # Extract the part before the \"@\" symbol\n",
    "        sender = message.Sender\n",
    "\n",
    "        receiver = message.ReceivedByName\n",
    "        time = message.ReceivedTime\n",
    "        subject = message.Subject\n",
    "        \n",
    "        # Add email information to the email log\n",
    "        email_log = email_log.append({\n",
    "            'EmailSerial': email_serial_counter,\n",
    "            'Sender': sender,\n",
    "            'Receiver': receiver,\n",
    "            'Time': str(time),\n",
    "            'Subject': subject\n",
    "        }, ignore_index=True)\n",
    "\n",
    "        attachments_info = []  # List to store attachment information\n",
    "\n",
    "        for attachment in message.Attachments:\n",
    "            filename = attachment.FileName\n",
    "            file_extension = os.path.splitext(filename)[1]\n",
    "            new_filename = f\"{email_serial_counter}_{attachment_serial_counter}_{filename}\"\n",
    "            filepath = os.path.abspath(os.path.join(attachments_folder, new_filename))\n",
    "            attachment.SaveAsFile(filepath)\n",
    "\n",
    "            attachments_info.append({\n",
    "                'EmailSerial': email_serial_counter,\n",
    "                'AttachmentSerial': attachment_serial_counter,\n",
    "                'FileType': file_extension,\n",
    "                'RenamedAttachment': new_filename\n",
    "            })\n",
    "\n",
    "            attachment_serial_counter += 1\n",
    "\n",
    "        # Mark the email as read\n",
    "        message.UnRead = False\n",
    "\n",
    "        # Add attachment information to the attachment log\n",
    "        for attachment_info in attachments_info:\n",
    "            attachments_log = attachments_log.append(attachment_info, ignore_index=True)\n",
    "\n",
    "        email_serial_counter += 1"
   ]
  },
  {
   "cell_type": "code",
   "execution_count": 12,
   "metadata": {},
   "outputs": [
    {
     "data": {
      "text/html": [
       "<div>\n",
       "<style scoped>\n",
       "    .dataframe tbody tr th:only-of-type {\n",
       "        vertical-align: middle;\n",
       "    }\n",
       "\n",
       "    .dataframe tbody tr th {\n",
       "        vertical-align: top;\n",
       "    }\n",
       "\n",
       "    .dataframe thead th {\n",
       "        text-align: right;\n",
       "    }\n",
       "</style>\n",
       "<table border=\"1\" class=\"dataframe\">\n",
       "  <thead>\n",
       "    <tr style=\"text-align: right;\">\n",
       "      <th></th>\n",
       "      <th>Sender</th>\n",
       "      <th>Receiver</th>\n",
       "      <th>Time</th>\n",
       "      <th>Subject</th>\n",
       "      <th>FileType</th>\n",
       "    </tr>\n",
       "  </thead>\n",
       "  <tbody>\n",
       "    <tr>\n",
       "      <th>0</th>\n",
       "      <td>owais.sajid002@gmail.com</td>\n",
       "      <td>u2020337</td>\n",
       "      <td>2023-06-22 10:59:30.422000+00:00</td>\n",
       "      <td>attachment test 1</td>\n",
       "      <td>.pdf</td>\n",
       "    </tr>\n",
       "    <tr>\n",
       "      <th>1</th>\n",
       "      <td>owais.sajid002@gmail.com</td>\n",
       "      <td>u2020337</td>\n",
       "      <td>2023-06-22 11:00:33.318000+00:00</td>\n",
       "      <td>attachment test 2</td>\n",
       "      <td>.docx</td>\n",
       "    </tr>\n",
       "  </tbody>\n",
       "</table>\n",
       "</div>"
      ],
      "text/plain": [
       "                     Sender  Receiver                              Time  \\\n",
       "0  owais.sajid002@gmail.com  u2020337  2023-06-22 10:59:30.422000+00:00   \n",
       "1  owais.sajid002@gmail.com  u2020337  2023-06-22 11:00:33.318000+00:00   \n",
       "\n",
       "             Subject FileType  \n",
       "0  attachment test 1     .pdf  \n",
       "1  attachment test 2    .docx  "
      ]
     },
     "execution_count": 12,
     "metadata": {},
     "output_type": "execute_result"
    }
   ],
   "source": [
    "email_log"
   ]
  },
  {
   "cell_type": "code",
   "execution_count": 10,
   "metadata": {},
   "outputs": [],
   "source": [
    "# Save the email log to an Excel file\n",
    "log_filepath = os.path.abspath(r\"D:\\GIKI\\CAA_intern\\email_log.xlsx\")\n",
    "email_log.to_excel(log_filepath, index=False)"
   ]
  }
 ],
 "metadata": {
  "kernelspec": {
   "display_name": "base",
   "language": "python",
   "name": "python3"
  },
  "language_info": {
   "codemirror_mode": {
    "name": "ipython",
    "version": 3
   },
   "file_extension": ".py",
   "mimetype": "text/x-python",
   "name": "python",
   "nbconvert_exporter": "python",
   "pygments_lexer": "ipython3",
   "version": "3.9.13"
  },
  "orig_nbformat": 4
 },
 "nbformat": 4,
 "nbformat_minor": 2
}
