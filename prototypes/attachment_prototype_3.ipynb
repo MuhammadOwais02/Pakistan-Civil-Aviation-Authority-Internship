{
 "cells": [
  {
   "cell_type": "code",
   "execution_count": 8,
   "metadata": {},
   "outputs": [
    {
     "name": "stdout",
     "output_type": "stream",
     "text": [
      "Requirement already satisfied: openpyxl in e:\\anacondainstalled\\lib\\site-packages (3.0.10)\n",
      "Requirement already satisfied: et_xmlfile in e:\\anacondainstalled\\lib\\site-packages (from openpyxl) (1.1.0)\n"
     ]
    }
   ],
   "source": [
    "! pip install openpyxl"
   ]
  },
  {
   "cell_type": "code",
   "execution_count": 1,
   "metadata": {},
   "outputs": [
    {
     "name": "stdout",
     "output_type": "stream",
     "text": [
      "Requirement already satisfied: xlwings in e:\\anacondainstalled\\lib\\site-packages (0.27.15)\n",
      "Requirement already satisfied: pywin32>=224 in e:\\anacondainstalled\\lib\\site-packages (from xlwings) (306)\n"
     ]
    }
   ],
   "source": [
    "! pip install xlwings"
   ]
  },
  {
   "cell_type": "code",
   "execution_count": 51,
   "metadata": {},
   "outputs": [],
   "source": [
    "import win32com.client\n",
    "import os\n",
    "from datetime import datetime\n",
    "from openpyxl import Workbook\n",
    "from openpyxl.utils import get_column_letter"
   ]
  },
  {
   "cell_type": "code",
   "execution_count": 52,
   "metadata": {},
   "outputs": [],
   "source": [
    "outlook = win32com.client.Dispatch(\"Outlook.Application\")\n",
    "mapi = outlook.GetNamespace(\"MAPI\")\n",
    "inbox = mapi.GetDefaultFolder(6)  # Inbox folder\n",
    "messages = inbox.Items"
   ]
  },
  {
   "cell_type": "code",
   "execution_count": 46,
   "metadata": {},
   "outputs": [],
   "source": [
    "# Create a new Excel workbook\n",
    "wb = Workbook()\n",
    "sheet = wb.active"
   ]
  },
  {
   "cell_type": "code",
   "execution_count": 53,
   "metadata": {},
   "outputs": [],
   "source": [
    "# Set column headers\n",
    "headers = [\"Sender\", \"Receiver\", \"Time\", \"Subject\", \"Extension\"]\n",
    "for col_num, header in enumerate(headers, 1):\n",
    "    col_letter = get_column_letter(col_num)\n",
    "    sheet[f\"{col_letter}1\"] = header"
   ]
  },
  {
   "cell_type": "code",
   "execution_count": 54,
   "metadata": {},
   "outputs": [],
   "source": [
    "row_num = 2  # Start from the second row for data"
   ]
  },
  {
   "cell_type": "code",
   "execution_count": 56,
   "metadata": {},
   "outputs": [
    {
     "ename": "TypeError",
     "evalue": "an integer is required (got type str)",
     "output_type": "error",
     "traceback": [
      "\u001b[1;31m---------------------------------------------------------------------------\u001b[0m",
      "\u001b[1;31mTypeError\u001b[0m                                 Traceback (most recent call last)",
      "Cell \u001b[1;32mIn[56], line 5\u001b[0m\n\u001b[0;32m      3\u001b[0m sender \u001b[39m=\u001b[39m message\u001b[39m.\u001b[39mSenderName\n\u001b[0;32m      4\u001b[0m receiver \u001b[39m=\u001b[39m message\u001b[39m.\u001b[39mTo\n\u001b[1;32m----> 5\u001b[0m time_string \u001b[39m=\u001b[39m message\u001b[39m.\u001b[39;49mReceivedTime\u001b[39m.\u001b[39;49mreplace(\u001b[39m\"\u001b[39;49m\u001b[39mZ\u001b[39;49m\u001b[39m\"\u001b[39;49m, \u001b[39m\"\u001b[39;49m\u001b[39m+00:00\u001b[39;49m\u001b[39m\"\u001b[39;49m)\u001b[39m.\u001b[39msplit(\u001b[39m\"\u001b[39m\u001b[39m.\u001b[39m\u001b[39m\"\u001b[39m)[\u001b[39m0\u001b[39m]\n\u001b[0;32m      6\u001b[0m time \u001b[39m=\u001b[39m datetime\u001b[39m.\u001b[39mfromisoformat(time_string)\u001b[39m.\u001b[39mreplace(tzinfo\u001b[39m=\u001b[39m\u001b[39mNone\u001b[39;00m)\n\u001b[0;32m      7\u001b[0m subject \u001b[39m=\u001b[39m message\u001b[39m.\u001b[39mSubject\n",
      "\u001b[1;31mTypeError\u001b[0m: an integer is required (got type str)"
     ]
    }
   ],
   "source": [
    "for message in messages:\n",
    "    if message.Unread:\n",
    "        sender = message.SenderName\n",
    "        receiver = message.To\n",
    "        time_string = message.ReceivedTime.replace(\"Z\", \"+00:00\").split(\".\")[0]\n",
    "        time = datetime.fromisoformat(time_string).replace(tzinfo=None)\n",
    "        subject = message.Subject\n",
    "\n",
    "        for attachment in message.Attachments:\n",
    "            filename = attachment.FileName\n",
    "            extension = os.path.splitext(filename)[1]\n",
    "\n",
    "            # Save attachment to the specified folder\n",
    "            filepath = os.path.abspath(\n",
    "                r\"D:\\GIKI\\CAA_intern\\attachments\\\\\" + filename\n",
    "            )\n",
    "            attachment.SaveAsFile(filepath)\n",
    "\n",
    "            # Log the information in the Excel sheet\n",
    "            sheet[f\"A{row_num}\"] = sender\n",
    "            sheet[f\"B{row_num}\"] = receiver\n",
    "            sheet[f\"C{row_num}\"] = time\n",
    "            sheet[f\"D{row_num}\"] = subject\n",
    "            sheet[f\"E{row_num}\"] = extension\n",
    "\n",
    "            row_num += 1\n",
    "\n",
    "        # Mark the email as read\n",
    "        message.Unread = False\n",
    "\n",
    "# Save the Excel workbook\n",
    "wb.save(r\"D:\\GIKI\\CAA_intern\\log.xlsx\")"
   ]
  },
  {
   "cell_type": "code",
   "execution_count": null,
   "metadata": {},
   "outputs": [],
   "source": []
  }
 ],
 "metadata": {
  "kernelspec": {
   "display_name": "base",
   "language": "python",
   "name": "python3"
  },
  "language_info": {
   "codemirror_mode": {
    "name": "ipython",
    "version": 3
   },
   "file_extension": ".py",
   "mimetype": "text/x-python",
   "name": "python",
   "nbconvert_exporter": "python",
   "pygments_lexer": "ipython3",
   "version": "3.9.13"
  },
  "orig_nbformat": 4
 },
 "nbformat": 4,
 "nbformat_minor": 2
}
