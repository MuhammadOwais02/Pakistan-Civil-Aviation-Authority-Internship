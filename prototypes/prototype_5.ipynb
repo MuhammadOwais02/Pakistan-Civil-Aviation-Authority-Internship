{
 "cells": [
  {
   "cell_type": "code",
   "execution_count": 1,
   "metadata": {},
   "outputs": [],
   "source": [
    "import win32com.client\n",
    "import os\n",
    "import pandas as pd"
   ]
  },
  {
   "cell_type": "code",
   "execution_count": 2,
   "metadata": {},
   "outputs": [],
   "source": [
    "# Create a DataFrame to store the email log\n",
    "email_log = pd.DataFrame(columns=['EmailSerial', 'Sender', 'Receiver', 'Time', 'Subject'])\n",
    "attachments_log = pd.DataFrame(columns=['EmailSerial', 'AttachmentSerial', 'FileType', 'RenamedAttachment'])"
   ]
  },
  {
   "attachments": {},
   "cell_type": "markdown",
   "metadata": {},
   "source": [
    "'win32com.client' module in Python allows you to programmatically control Microsoft Office applications."
   ]
  },
  {
   "attachments": {},
   "cell_type": "markdown",
   "metadata": {},
   "source": [
    "'Dispatch()', for creating an instance of an Office application."
   ]
  },
  {
   "cell_type": "code",
   "execution_count": 3,
   "metadata": {},
   "outputs": [
    {
     "ename": "com_error",
     "evalue": "(-2147352567, 'Exception occurred.', (4096, 'Microsoft Outlook', 'The operation failed.', None, 0, -2147467259), None)",
     "output_type": "error",
     "traceback": [
      "\u001b[1;31m---------------------------------------------------------------------------\u001b[0m",
      "\u001b[1;31mcom_error\u001b[0m                                 Traceback (most recent call last)",
      "Cell \u001b[1;32mIn[3], line 4\u001b[0m\n\u001b[0;32m      2\u001b[0m outlook \u001b[39m=\u001b[39m win32com\u001b[39m.\u001b[39mclient\u001b[39m.\u001b[39mDispatch(\u001b[39m\"\u001b[39m\u001b[39mOutlook.Application\u001b[39m\u001b[39m\"\u001b[39m)\n\u001b[0;32m      3\u001b[0m mapi \u001b[39m=\u001b[39m outlook\u001b[39m.\u001b[39mGetNamespace(\u001b[39m\"\u001b[39m\u001b[39mMAPI\u001b[39m\u001b[39m\"\u001b[39m)\n\u001b[1;32m----> 4\u001b[0m inbox \u001b[39m=\u001b[39m mapi\u001b[39m.\u001b[39;49mGetDefaultFolder(\u001b[39m6\u001b[39;49m)  \u001b[39m# Inbox folder\u001b[39;00m\n\u001b[0;32m      5\u001b[0m messages \u001b[39m=\u001b[39m inbox\u001b[39m.\u001b[39mItems\n",
      "File \u001b[1;32m<COMObject GetNamespace>:2\u001b[0m, in \u001b[0;36mGetDefaultFolder\u001b[1;34m(self, FolderType)\u001b[0m\n",
      "\u001b[1;31mcom_error\u001b[0m: (-2147352567, 'Exception occurred.', (4096, 'Microsoft Outlook', 'The operation failed.', None, 0, -2147467259), None)"
     ]
    }
   ],
   "source": [
    "# Access Outlook and retrieve the inbox folder\n",
    "outlook = win32com.client.Dispatch(\"Outlook.Application\")\n",
    "mapi = outlook.GetNamespace(\"MAPI\")\n",
    "inbox = mapi.GetDefaultFolder(6)  # Inbox folder\n",
    "messages = inbox.Items"
   ]
  },
  {
   "cell_type": "code",
   "execution_count": 33,
   "metadata": {},
   "outputs": [],
   "source": [
    "email_serial_counter = 1  # Counter for email serial numbers\n",
    "attachment_serial_counter = 1  # Counter for attachment serial numbers"
   ]
  },
  {
   "attachments": {},
   "cell_type": "markdown",
   "metadata": {},
   "source": [
    "#### Creating/Accessing Folder for all attachments (path mentioned here)"
   ]
  },
  {
   "cell_type": "code",
   "execution_count": 34,
   "metadata": {},
   "outputs": [],
   "source": [
    "# Create a folder to save the attachments\n",
    "attachments_folder = r\"D:\\GIKI\\CAA_intern\\attachments\"\n",
    "os.makedirs(attachments_folder, exist_ok=True)"
   ]
  },
  {
   "cell_type": "code",
   "execution_count": 35,
   "metadata": {},
   "outputs": [
    {
     "name": "stderr",
     "output_type": "stream",
     "text": [
      "C:\\Users\\Owaise\\AppData\\Local\\Temp\\ipykernel_3936\\3737421670.py:10: FutureWarning: The frame.append method is deprecated and will be removed from pandas in a future version. Use pandas.concat instead.\n",
      "  email_log = email_log.append({\n",
      "C:\\Users\\Owaise\\AppData\\Local\\Temp\\ipykernel_3936\\3737421670.py:41: FutureWarning: The frame.append method is deprecated and will be removed from pandas in a future version. Use pandas.concat instead.\n",
      "  attachments_log = attachments_log.append(attachment_info, ignore_index=True)\n"
     ]
    }
   ],
   "source": [
    "# Iterate over unread emails, download attachments, mark as read, and update the log\n",
    "for message in messages:\n",
    "    if message.Unread:\n",
    "        sender = message.SenderEmailAddress\n",
    "        receiver = message.ReceivedByName\n",
    "        time = message.ReceivedTime\n",
    "        subject = message.Subject\n",
    "        \n",
    "        # Add email information to the email log\n",
    "        email_log = email_log.append({\n",
    "            'EmailSerial': email_serial_counter,\n",
    "            'Sender': sender,\n",
    "            'Receiver': receiver,\n",
    "            'Time': str(time),\n",
    "            'Subject': subject\n",
    "        }, ignore_index=True)\n",
    "\n",
    "        attachments_info = []  # List to store attachment information\n",
    "\n",
    "        for attachment in message.Attachments:\n",
    "            filename = attachment.FileName\n",
    "            file_extension = os.path.splitext(filename)[1]\n",
    "            new_filename = f\"{email_serial_counter}_{attachment_serial_counter}_{filename}\"\n",
    "            filepath = os.path.abspath(os.path.join(attachments_folder, new_filename))\n",
    "            attachment.SaveAsFile(filepath)\n",
    "\n",
    "            attachments_info.append({\n",
    "                'EmailSerial': email_serial_counter,\n",
    "                'AttachmentSerial': attachment_serial_counter,\n",
    "                'FileType': file_extension,\n",
    "                'RenamedAttachment': new_filename\n",
    "            })\n",
    "\n",
    "            attachment_serial_counter += 1\n",
    "\n",
    "        # Mark the email as read\n",
    "        message.UnRead = False\n",
    "\n",
    "        # Add attachment information to the attachment log\n",
    "        for attachment_info in attachments_info:\n",
    "            attachments_log = attachments_log.append(attachment_info, ignore_index=True)\n",
    "\n",
    "        email_serial_counter += 1"
   ]
  },
  {
   "cell_type": "code",
   "execution_count": 36,
   "metadata": {},
   "outputs": [
    {
     "data": {
      "text/html": [
       "<div>\n",
       "<style scoped>\n",
       "    .dataframe tbody tr th:only-of-type {\n",
       "        vertical-align: middle;\n",
       "    }\n",
       "\n",
       "    .dataframe tbody tr th {\n",
       "        vertical-align: top;\n",
       "    }\n",
       "\n",
       "    .dataframe thead th {\n",
       "        text-align: right;\n",
       "    }\n",
       "</style>\n",
       "<table border=\"1\" class=\"dataframe\">\n",
       "  <thead>\n",
       "    <tr style=\"text-align: right;\">\n",
       "      <th></th>\n",
       "      <th>EmailSerial</th>\n",
       "      <th>Sender</th>\n",
       "      <th>Receiver</th>\n",
       "      <th>Time</th>\n",
       "      <th>Subject</th>\n",
       "    </tr>\n",
       "  </thead>\n",
       "  <tbody>\n",
       "    <tr>\n",
       "      <th>0</th>\n",
       "      <td>1</td>\n",
       "      <td>/O=EXCHANGELABS/OU=EXCHANGE ADMINISTRATIVE GRO...</td>\n",
       "      <td>u2020337</td>\n",
       "      <td>2023-06-27 13:31:57.139000+00:00</td>\n",
       "      <td>HEC - Coursera: Cohort I</td>\n",
       "    </tr>\n",
       "  </tbody>\n",
       "</table>\n",
       "</div>"
      ],
      "text/plain": [
       "  EmailSerial                                             Sender  Receiver  \\\n",
       "0           1  /O=EXCHANGELABS/OU=EXCHANGE ADMINISTRATIVE GRO...  u2020337   \n",
       "\n",
       "                               Time                   Subject  \n",
       "0  2023-06-27 13:31:57.139000+00:00  HEC - Coursera: Cohort I  "
      ]
     },
     "execution_count": 36,
     "metadata": {},
     "output_type": "execute_result"
    }
   ],
   "source": [
    "email_log"
   ]
  },
  {
   "cell_type": "code",
   "execution_count": 37,
   "metadata": {},
   "outputs": [
    {
     "data": {
      "text/html": [
       "<div>\n",
       "<style scoped>\n",
       "    .dataframe tbody tr th:only-of-type {\n",
       "        vertical-align: middle;\n",
       "    }\n",
       "\n",
       "    .dataframe tbody tr th {\n",
       "        vertical-align: top;\n",
       "    }\n",
       "\n",
       "    .dataframe thead th {\n",
       "        text-align: right;\n",
       "    }\n",
       "</style>\n",
       "<table border=\"1\" class=\"dataframe\">\n",
       "  <thead>\n",
       "    <tr style=\"text-align: right;\">\n",
       "      <th></th>\n",
       "      <th>EmailSerial</th>\n",
       "      <th>AttachmentSerial</th>\n",
       "      <th>FileType</th>\n",
       "      <th>RenamedAttachment</th>\n",
       "    </tr>\n",
       "  </thead>\n",
       "  <tbody>\n",
       "    <tr>\n",
       "      <th>0</th>\n",
       "      <td>1</td>\n",
       "      <td>1</td>\n",
       "      <td>.jpg</td>\n",
       "      <td>1_1_HEC-DLSE Cohort I.jpg</td>\n",
       "    </tr>\n",
       "  </tbody>\n",
       "</table>\n",
       "</div>"
      ],
      "text/plain": [
       "  EmailSerial AttachmentSerial FileType          RenamedAttachment\n",
       "0           1                1     .jpg  1_1_HEC-DLSE Cohort I.jpg"
      ]
     },
     "execution_count": 37,
     "metadata": {},
     "output_type": "execute_result"
    }
   ],
   "source": [
    "attachments_log"
   ]
  },
  {
   "attachments": {},
   "cell_type": "markdown",
   "metadata": {},
   "source": [
    "#### Saving Log File (path mentioned here)"
   ]
  },
  {
   "cell_type": "code",
   "execution_count": 38,
   "metadata": {},
   "outputs": [],
   "source": [
    "# Save the email log and attachments log to separate sheets in an Excel file\n",
    "log_filepath = os.path.abspath(r\"D:\\GIKI\\CAA_intern\\email_log_with_attachments.xlsx\")\n",
    "with pd.ExcelWriter(log_filepath) as writer:\n",
    "    email_log.to_excel(writer, sheet_name='EmailLog', index=False)\n",
    "    attachments_log.to_excel(writer, sheet_name='AttachmentsLog', index=False)"
   ]
  },
  {
   "attachments": {},
   "cell_type": "markdown",
   "metadata": {},
   "source": [
    "### Sorting into seperate folders.."
   ]
  },
  {
   "cell_type": "code",
   "execution_count": 39,
   "metadata": {},
   "outputs": [],
   "source": [
    "import os\n",
    "import shutil"
   ]
  },
  {
   "attachments": {},
   "cell_type": "markdown",
   "metadata": {},
   "source": [
    "The separate folders for each extension will be created within the attachments_folder itself. \n",
    "\n",
    "The function will create a folder for each unique extension encountered and move the files with that extension into their respective folders within the attachments_folder."
   ]
  },
  {
   "cell_type": "code",
   "execution_count": 40,
   "metadata": {},
   "outputs": [],
   "source": [
    "def sort_attachments_by_extension(attachments_folder):\n",
    "    # Get all files in the attachments folder\n",
    "    files = os.listdir(attachments_folder)\n",
    "\n",
    "    # Create a dictionary to store folders for each extension\n",
    "    extension_folders = {}\n",
    "\n",
    "    # Iterate over the files and identify their extensions\n",
    "    for file in files:\n",
    "        file_path = os.path.join(attachments_folder, file)\n",
    "        \n",
    "        # Exclude folders and files within extension folders from sorting \n",
    "        # ' .isfile() ' functions checks to make sure that it is a file ! \n",
    "        if not os.path.isfile(file_path) or os.path.dirname(file_path) != attachments_folder:  \n",
    "            continue # Sorting restricted to main \"attachments_folder\" only.\n",
    "\n",
    "        file_extension = os.path.splitext(file)[1]\n",
    "\n",
    "        # Create a folder for the extension if it doesn't exist\n",
    "        if file_extension not in extension_folders:\n",
    "            extension_folder = os.path.join(attachments_folder, f\"{file_extension}_folder\") # making of sub-folders\n",
    "            os.makedirs(extension_folder, exist_ok=True)\n",
    "            extension_folders[file_extension] = extension_folder\n",
    "\n",
    "        # Move the file to the respective extension folder\n",
    "        destination_folder = extension_folders[file_extension]\n",
    "        destination_path = os.path.join(destination_folder, file)\n",
    "        shutil.move(file_path, destination_path)"
   ]
  },
  {
   "cell_type": "code",
   "execution_count": 41,
   "metadata": {},
   "outputs": [],
   "source": [
    "sort_attachments_by_extension(attachments_folder)"
   ]
  },
  {
   "cell_type": "code",
   "execution_count": null,
   "metadata": {},
   "outputs": [],
   "source": []
  },
  {
   "attachments": {},
   "cell_type": "markdown",
   "metadata": {},
   "source": [
    "Notes:"
   ]
  },
  {
   "attachments": {},
   "cell_type": "markdown",
   "metadata": {},
   "source": [
    "- get file sorting working ---- Done\n",
    "- will have to access the webpage programmatically"
   ]
  },
  {
   "cell_type": "code",
   "execution_count": null,
   "metadata": {},
   "outputs": [],
   "source": []
  }
 ],
 "metadata": {
  "kernelspec": {
   "display_name": "base",
   "language": "python",
   "name": "python3"
  },
  "language_info": {
   "codemirror_mode": {
    "name": "ipython",
    "version": 3
   },
   "file_extension": ".py",
   "mimetype": "text/x-python",
   "name": "python",
   "nbconvert_exporter": "python",
   "pygments_lexer": "ipython3",
   "version": "3.9.13"
  },
  "orig_nbformat": 4
 },
 "nbformat": 4,
 "nbformat_minor": 2
}
