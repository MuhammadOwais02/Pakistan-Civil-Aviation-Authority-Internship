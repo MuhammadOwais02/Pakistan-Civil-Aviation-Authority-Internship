{
 "cells": [
  {
   "cell_type": "code",
   "execution_count": 1,
   "metadata": {},
   "outputs": [],
   "source": [
    "import imaplib\n",
    "import email\n",
    "import os"
   ]
  },
  {
   "cell_type": "code",
   "execution_count": 2,
   "metadata": {},
   "outputs": [],
   "source": [
    "EMAIL = \"u2020337@giki.edu.pk\"\n",
    "PASSWORD = \"Vof30834\"\n",
    "SERVER = \"imap-mail.outlook.com\""
   ]
  },
  {
   "cell_type": "code",
   "execution_count": 3,
   "metadata": {},
   "outputs": [],
   "source": [
    "# Connect to the email server\n",
    "mail = imaplib.IMAP4_SSL(SERVER)"
   ]
  },
  {
   "cell_type": "code",
   "execution_count": 4,
   "metadata": {},
   "outputs": [
    {
     "ename": "error",
     "evalue": "b'LOGIN failed.'",
     "output_type": "error",
     "traceback": [
      "\u001b[1;31m---------------------------------------------------------------------------\u001b[0m",
      "\u001b[1;31merror\u001b[0m                                     Traceback (most recent call last)",
      "Cell \u001b[1;32mIn[4], line 2\u001b[0m\n\u001b[0;32m      1\u001b[0m \u001b[39m# Log in to your account\u001b[39;00m\n\u001b[1;32m----> 2\u001b[0m mail\u001b[39m.\u001b[39;49mlogin(EMAIL, PASSWORD)\n",
      "File \u001b[1;32me:\\AnacondaInstalled\\lib\\imaplib.py:612\u001b[0m, in \u001b[0;36mIMAP4.login\u001b[1;34m(self, user, password)\u001b[0m\n\u001b[0;32m    610\u001b[0m typ, dat \u001b[39m=\u001b[39m \u001b[39mself\u001b[39m\u001b[39m.\u001b[39m_simple_command(\u001b[39m'\u001b[39m\u001b[39mLOGIN\u001b[39m\u001b[39m'\u001b[39m, user, \u001b[39mself\u001b[39m\u001b[39m.\u001b[39m_quote(password))\n\u001b[0;32m    611\u001b[0m \u001b[39mif\u001b[39;00m typ \u001b[39m!=\u001b[39m \u001b[39m'\u001b[39m\u001b[39mOK\u001b[39m\u001b[39m'\u001b[39m:\n\u001b[1;32m--> 612\u001b[0m     \u001b[39mraise\u001b[39;00m \u001b[39mself\u001b[39m\u001b[39m.\u001b[39merror(dat[\u001b[39m-\u001b[39m\u001b[39m1\u001b[39m])\n\u001b[0;32m    613\u001b[0m \u001b[39mself\u001b[39m\u001b[39m.\u001b[39mstate \u001b[39m=\u001b[39m \u001b[39m'\u001b[39m\u001b[39mAUTH\u001b[39m\u001b[39m'\u001b[39m\n\u001b[0;32m    614\u001b[0m \u001b[39mreturn\u001b[39;00m typ, dat\n",
      "\u001b[1;31merror\u001b[0m: b'LOGIN failed.'"
     ]
    }
   ],
   "source": [
    "    # Log in to your account\n",
    "mail.login(EMAIL, PASSWORD)"
   ]
  },
  {
   "cell_type": "code",
   "execution_count": null,
   "metadata": {},
   "outputs": [],
   "source": []
  }
 ],
 "metadata": {
  "kernelspec": {
   "display_name": "base",
   "language": "python",
   "name": "python3"
  },
  "language_info": {
   "codemirror_mode": {
    "name": "ipython",
    "version": 3
   },
   "file_extension": ".py",
   "mimetype": "text/x-python",
   "name": "python",
   "nbconvert_exporter": "python",
   "pygments_lexer": "ipython3",
   "version": "3.9.13"
  },
  "orig_nbformat": 4
 },
 "nbformat": 4,
 "nbformat_minor": 2
}
